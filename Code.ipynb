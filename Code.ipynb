{
 "cells": [
  {
   "cell_type": "code",
   "execution_count": 7,
   "id": "22349dfc",
   "metadata": {},
   "outputs": [],
   "source": [
    "import pandas as pd"
   ]
  },
  {
   "cell_type": "code",
   "execution_count": 8,
   "id": "8bd473d1",
   "metadata": {},
   "outputs": [
    {
     "data": {
      "text/html": [
       "<div>\n",
       "<style scoped>\n",
       "    .dataframe tbody tr th:only-of-type {\n",
       "        vertical-align: middle;\n",
       "    }\n",
       "\n",
       "    .dataframe tbody tr th {\n",
       "        vertical-align: top;\n",
       "    }\n",
       "\n",
       "    .dataframe thead th {\n",
       "        text-align: right;\n",
       "    }\n",
       "</style>\n",
       "<table border=\"1\" class=\"dataframe\">\n",
       "  <thead>\n",
       "    <tr style=\"text-align: right;\">\n",
       "      <th></th>\n",
       "      <th>Date</th>\n",
       "      <th>Open</th>\n",
       "      <th>High</th>\n",
       "      <th>Low</th>\n",
       "      <th>Close</th>\n",
       "      <th>Volume</th>\n",
       "      <th>Time</th>\n",
       "    </tr>\n",
       "  </thead>\n",
       "  <tbody>\n",
       "    <tr>\n",
       "      <th>0</th>\n",
       "      <td>01-01-2024</td>\n",
       "      <td>642.20</td>\n",
       "      <td>642.70</td>\n",
       "      <td>641.00</td>\n",
       "      <td>641.95</td>\n",
       "      <td>89481</td>\n",
       "      <td>09:15:00</td>\n",
       "    </tr>\n",
       "    <tr>\n",
       "      <th>1</th>\n",
       "      <td>01-01-2024</td>\n",
       "      <td>641.95</td>\n",
       "      <td>642.85</td>\n",
       "      <td>641.95</td>\n",
       "      <td>642.45</td>\n",
       "      <td>48965</td>\n",
       "      <td>09:16:00</td>\n",
       "    </tr>\n",
       "    <tr>\n",
       "      <th>2</th>\n",
       "      <td>01-01-2024</td>\n",
       "      <td>642.70</td>\n",
       "      <td>644.00</td>\n",
       "      <td>642.70</td>\n",
       "      <td>643.50</td>\n",
       "      <td>65729</td>\n",
       "      <td>09:17:00</td>\n",
       "    </tr>\n",
       "    <tr>\n",
       "      <th>3</th>\n",
       "      <td>01-01-2024</td>\n",
       "      <td>643.90</td>\n",
       "      <td>644.55</td>\n",
       "      <td>643.30</td>\n",
       "      <td>643.40</td>\n",
       "      <td>47909</td>\n",
       "      <td>09:18:00</td>\n",
       "    </tr>\n",
       "    <tr>\n",
       "      <th>4</th>\n",
       "      <td>01-01-2024</td>\n",
       "      <td>643.70</td>\n",
       "      <td>644.10</td>\n",
       "      <td>643.45</td>\n",
       "      <td>643.75</td>\n",
       "      <td>27645</td>\n",
       "      <td>09:19:00</td>\n",
       "    </tr>\n",
       "  </tbody>\n",
       "</table>\n",
       "</div>"
      ],
      "text/plain": [
       "         Date    Open    High     Low   Close  Volume      Time\n",
       "0  01-01-2024  642.20  642.70  641.00  641.95   89481  09:15:00\n",
       "1  01-01-2024  641.95  642.85  641.95  642.45   48965  09:16:00\n",
       "2  01-01-2024  642.70  644.00  642.70  643.50   65729  09:17:00\n",
       "3  01-01-2024  643.90  644.55  643.30  643.40   47909  09:18:00\n",
       "4  01-01-2024  643.70  644.10  643.45  643.75   27645  09:19:00"
      ]
     },
     "execution_count": 8,
     "metadata": {},
     "output_type": "execute_result"
    }
   ],
   "source": [
    "data = pd.read_csv(\"https://drive.google.com/uc?id=1tttKFRu_javrfHQoU--czFDIN3n8LLXy\")\n",
    "data.head()"
   ]
  },
  {
   "cell_type": "code",
   "execution_count": 9,
   "id": "d593a840",
   "metadata": {},
   "outputs": [],
   "source": [
    "# storing unique values of Date and Time column in new variables\n",
    "\n",
    "dates = data['Date'].unique()\n",
    "times = data['Time'].unique()"
   ]
  },
  {
   "cell_type": "code",
   "execution_count": 10,
   "id": "571f5e17",
   "metadata": {
    "scrolled": true
   },
   "outputs": [],
   "source": [
    "# creating different groups based on time\n",
    "grouped_data = data.groupby('Time')\n",
    "\n",
    "# ranks will pe appended to this list\n",
    "rank_list = []\n",
    "\n",
    "for time in times:\n",
    "    group = grouped_data.get_group(time)\n",
    "    \n",
    "    # creating a series of every 6 consecutive values of Volume column from start\n",
    "    for i in range(5,len(dates)):\n",
    "        volumes = group['Volume'][i-5:i+1]\n",
    "        # sorting this series in descending order\n",
    "        sorted_volumes = volumes.sort_values(ascending = False)\n",
    "        \n",
    "        for volume in sorted_volumes:\n",
    "            if volume == group['Volume'].iat[i]:\n",
    "                index = group[group['Volume'] == volume].index[0]\n",
    "                # getting rank of every value of Value column using positional index\n",
    "                rank = pd.Index(list(sorted_volumes)).get_loc(volume) + 1\n",
    "                # adding rank to the list of ranks\n",
    "                rank_list.append(rank)"
   ]
  },
  {
   "cell_type": "code",
   "execution_count": 11,
   "id": "e5ca4b60",
   "metadata": {},
   "outputs": [],
   "source": [
    "# for first 5 dates, rank column will contain null values\n",
    "for i in dates[0:5]:\n",
    "    for date in data['Date']:\n",
    "        if  i == date:\n",
    "            rank_list.insert(0,None)\n",
    "\n",
    "# add the list of ranks in a new column of the existing dataframe\n",
    "data['rank'] = rank_list"
   ]
  },
  {
   "cell_type": "code",
   "execution_count": 12,
   "id": "b3f65461",
   "metadata": {},
   "outputs": [],
   "source": [
    "data.to_excel(\"C:/Users/ASUS/Desktop/Output.xlsx\")"
   ]
  }
 ],
 "metadata": {
  "kernelspec": {
   "display_name": "Python 3 (ipykernel)",
   "language": "python",
   "name": "python3"
  },
  "language_info": {
   "codemirror_mode": {
    "name": "ipython",
    "version": 3
   },
   "file_extension": ".py",
   "mimetype": "text/x-python",
   "name": "python",
   "nbconvert_exporter": "python",
   "pygments_lexer": "ipython3",
   "version": "3.11.5"
  }
 },
 "nbformat": 4,
 "nbformat_minor": 5
}
